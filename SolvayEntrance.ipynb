{
 "cells": [
  {
   "cell_type": "code",
   "execution_count": 76,
   "metadata": {},
   "outputs": [
    {
     "data": {
      "text/plain": [
       "2.2"
      ]
     },
     "execution_count": 76,
     "metadata": {},
     "output_type": "execute_result"
    }
   ],
   "source": [
    "v = [2,2,3,2,2]\n",
    "sum(v)/len(v)\n"
   ]
  },
  {
   "cell_type": "code",
   "execution_count": 78,
   "metadata": {},
   "outputs": [
    {
     "data": {
      "text/plain": [
       "0.39999999999999997"
      ]
     },
     "execution_count": 78,
     "metadata": {},
     "output_type": "execute_result"
    }
   ],
   "source": [
    "def std(v,sample_std = True):\n",
    "    mu = sum(v)/len(v)\n",
    "    sq_dev = [(x-mu)**2 for x in v]\n",
    "    if sample_std == True:\n",
    "        return (sum(sq_dev)/(len(v)-1))**(1/2)\n",
    "    else:\n",
    "        return (sum(sq_dev)/len(v))**(1/2)\n",
    "std(v,sample_std = False)\n",
    "    "
   ]
  },
  {
   "cell_type": "code",
   "execution_count": 41,
   "metadata": {},
   "outputs": [],
   "source": [
    "v = [1,2,3,4,4,4,5,2,1,1,2]\n",
    "s = {*v}\n",
    "cnts = [v.count(x) for x in s]\n"
   ]
  },
  {
   "cell_type": "code",
   "execution_count": 70,
   "metadata": {},
   "outputs": [],
   "source": [
    "def sort_tup(t_v):\n",
    "    t_values = [*(t_v)]\n",
    "    for i in range(len(t_values)):\n",
    "        for j in range(len(t_values)-1-i):\n",
    "            if t_values[j][1] > t_values[j+1][1]:\n",
    "                t_values[j], t_values[j+1] = t_values[j+1], t_values[j]\n",
    "                swapped = True\n",
    "            else:\n",
    "                swapped = False\n",
    "        if swapped == False:\n",
    "            break\n",
    "    return t_values[::-1]"
   ]
  },
  {
   "cell_type": "code",
   "execution_count": 72,
   "metadata": {},
   "outputs": [],
   "source": [
    "def ordered_by_freq(v):\n",
    "    s = {*v} #here I look for unique elements\n",
    "    cnts = [v.count(x) for x in s] #here I count with the help of the method .count()\n",
    "    t_v = tuple((zip(s,cnts))) #with this I create tupples\n",
    "    t_values = [*(t_v)] #make a list of tupples for their manipulation\n",
    "    for i in range(len(t_values)): #I do a counter for the order\n",
    "        for j in range(len(t_values)-1-i): #go through the unorderd\n",
    "            if t_values[j][1] > t_values[j+1][1]:\n",
    "                t_values[j], t_values[j+1] = t_values[j+1], t_values[j] #make the swap\n",
    "                swapped = True\n",
    "            else:\n",
    "                swapped = False\n",
    "        if swapped == False: #if it doesn´t happen anything then I break to the initial counter\n",
    "            break\n",
    "    return t_values[::-1]"
   ]
  },
  {
   "cell_type": "code",
   "execution_count": 71,
   "metadata": {},
   "outputs": [
    {
     "data": {
      "text/plain": [
       "[(4, 3), (2, 3), (1, 3), (5, 1), (3, 1)]"
      ]
     },
     "execution_count": 71,
     "metadata": {},
     "output_type": "execute_result"
    }
   ],
   "source": [
    "sort_tup(t_values)"
   ]
  },
  {
   "cell_type": "code",
   "execution_count": 73,
   "metadata": {},
   "outputs": [
    {
     "data": {
      "text/plain": [
       "[(4, 3), (2, 3), (1, 3), (5, 1), (3, 1)]"
      ]
     },
     "execution_count": 73,
     "metadata": {},
     "output_type": "execute_result"
    }
   ],
   "source": [
    "ordered_by_freq(v)"
   ]
  }
 ],
 "metadata": {
  "kernelspec": {
   "display_name": "Python 3",
   "language": "python",
   "name": "python3"
  },
  "language_info": {
   "codemirror_mode": {
    "name": "ipython",
    "version": 3
   },
   "file_extension": ".py",
   "mimetype": "text/x-python",
   "name": "python",
   "nbconvert_exporter": "python",
   "pygments_lexer": "ipython3",
   "version": "3.7.0"
  }
 },
 "nbformat": 4,
 "nbformat_minor": 2
}
