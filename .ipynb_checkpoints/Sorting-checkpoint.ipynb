{
 "cells": [
  {
   "cell_type": "code",
   "execution_count": 7,
   "metadata": {},
   "outputs": [],
   "source": [
    "def merge_sort_2(x):\n",
    "    if len(x) < 2:\n",
    "        return x\n",
    "    print(\"Splitting \",x)\n",
    "    result = []\n",
    "    mid = int(len(x) / 2)\n",
    "    y = merge_sort_2(x[:mid])\n",
    "    print(f'this is right {y}')\n",
    "    z = merge_sort_2(x[mid:])\n",
    "    print(f'this is left {z}')\n",
    "    i = 0\n",
    "    j = 0\n",
    "    while i < len(y) and j < len(z):\n",
    "        if y[i] > z[j]:\n",
    "            result.append(z[j])\n",
    "            j += 1\n",
    "        else:\n",
    "            result.append(y[i])\n",
    "            i += 1\n",
    "        print('End of the first comparisons')\n",
    "        print(\"Merging \",x)\n",
    "    result += y[i:]\n",
    "    result += z[j:]\n",
    "    return result"
   ]
  },
  {
   "cell_type": "code",
   "execution_count": 8,
   "metadata": {},
   "outputs": [],
   "source": [
    "vector = [5,2,35,70,0,10]"
   ]
  },
  {
   "cell_type": "code",
   "execution_count": 9,
   "metadata": {},
   "outputs": [
    {
     "name": "stdout",
     "output_type": "stream",
     "text": [
      "Splitting  [5, 2, 35, 70, 0, 10]\n",
      "Splitting  [5, 2, 35]\n",
      "this is right [5]\n",
      "Splitting  [2, 35]\n",
      "this is right [2]\n",
      "this is left [35]\n",
      "End of the first comparisons\n",
      "Merging  [2, 35]\n",
      "this is left [2, 35]\n",
      "End of the first comparisons\n",
      "Merging  [5, 2, 35]\n",
      "End of the first comparisons\n",
      "Merging  [5, 2, 35]\n",
      "this is right [2, 5, 35]\n",
      "Splitting  [70, 0, 10]\n",
      "this is right [70]\n",
      "Splitting  [0, 10]\n",
      "this is right [0]\n",
      "this is left [10]\n",
      "End of the first comparisons\n",
      "Merging  [0, 10]\n",
      "this is left [0, 10]\n",
      "End of the first comparisons\n",
      "Merging  [70, 0, 10]\n",
      "End of the first comparisons\n",
      "Merging  [70, 0, 10]\n",
      "this is left [0, 10, 70]\n",
      "End of the first comparisons\n",
      "Merging  [5, 2, 35, 70, 0, 10]\n",
      "End of the first comparisons\n",
      "Merging  [5, 2, 35, 70, 0, 10]\n",
      "End of the first comparisons\n",
      "Merging  [5, 2, 35, 70, 0, 10]\n",
      "End of the first comparisons\n",
      "Merging  [5, 2, 35, 70, 0, 10]\n",
      "End of the first comparisons\n",
      "Merging  [5, 2, 35, 70, 0, 10]\n"
     ]
    },
    {
     "data": {
      "text/plain": [
       "[0, 2, 5, 10, 35, 70]"
      ]
     },
     "execution_count": 9,
     "metadata": {},
     "output_type": "execute_result"
    }
   ],
   "source": [
    "merge_sort_2(vector)"
   ]
  },
  {
   "cell_type": "code",
   "execution_count": 10,
   "metadata": {},
   "outputs": [],
   "source": [
    "def bubble_sort(x):\n",
    "\n",
    "    for i in range(len(x)):\n",
    "        print('I´ve just started in top')\n",
    "        for j in range(len(x)-i-1):\n",
    "            if x[j] > x[j+1]:\n",
    "                x[j], x[j+1] = x[j+1], x[j]\n",
    "                swapped = True\n",
    "                print(f'{x[j]} has been swapped for {x[j+1]}')\n",
    "            else:\n",
    "                swapped = False\n",
    "        if swapped == False:\n",
    "            break\n",
    "    return x "
   ]
  },
  {
   "cell_type": "code",
   "execution_count": 11,
   "metadata": {},
   "outputs": [
    {
     "name": "stdout",
     "output_type": "stream",
     "text": [
      "I´ve just started in top\n",
      "12 has been swapped for 15\n",
      "9 has been swapped for 15\n",
      "11 has been swapped for 15\n",
      "1 has been swapped for 15\n",
      "I´ve just started in top\n",
      "9 has been swapped for 12\n",
      "11 has been swapped for 12\n",
      "1 has been swapped for 12\n",
      "I´ve just started in top\n",
      "1 has been swapped for 11\n",
      "I´ve just started in top\n",
      "1 has been swapped for 9\n",
      "I´ve just started in top\n",
      "1 has been swapped for 2\n",
      "I´ve just started in top\n"
     ]
    },
    {
     "data": {
      "text/plain": [
       "[1, 2, 9, 11, 12, 15]"
      ]
     },
     "execution_count": 11,
     "metadata": {},
     "output_type": "execute_result"
    }
   ],
   "source": [
    "bubble_sort([2,15,12,9,11,1])"
   ]
  },
  {
   "cell_type": "code",
   "execution_count": 18,
   "metadata": {},
   "outputs": [
    {
     "data": {
      "text/plain": [
       "[0, 2, 5, 10, 35, 70]"
      ]
     },
     "execution_count": 18,
     "metadata": {},
     "output_type": "execute_result"
    }
   ],
   "source": [
    "bubble_sort(vector)"
   ]
  },
  {
   "cell_type": "code",
   "execution_count": 1,
   "metadata": {},
   "outputs": [],
   "source": [
    "def bogo_sort(x):\n",
    "    import numpy as np\n",
    "    while np.any(x[:-1] > x[1:]):\n",
    "        np.random.shuffle(x)\n",
    "    return x"
   ]
  }
 ],
 "metadata": {
  "kernelspec": {
   "display_name": "Python 3",
   "language": "python",
   "name": "python3"
  },
  "language_info": {
   "codemirror_mode": {
    "name": "ipython",
    "version": 3
   },
   "file_extension": ".py",
   "mimetype": "text/x-python",
   "name": "python",
   "nbconvert_exporter": "python",
   "pygments_lexer": "ipython3",
   "version": "3.7.0"
  }
 },
 "nbformat": 4,
 "nbformat_minor": 2
}
