{
 "cells": [
  {
   "cell_type": "code",
   "execution_count": 3,
   "metadata": {},
   "outputs": [],
   "source": [
    "from math import e\n"
   ]
  },
  {
   "cell_type": "code",
   "execution_count": 5,
   "metadata": {},
   "outputs": [
    {
     "data": {
      "text/plain": [
       "1.5561"
      ]
     },
     "execution_count": 5,
     "metadata": {},
     "output_type": "execute_result"
    }
   ],
   "source": [
    "round(1.556145123,4)"
   ]
  },
  {
   "cell_type": "code",
   "execution_count": null,
   "metadata": {},
   "outputs": [
    {
     "name": "stdout",
     "output_type": "stream",
     "text": [
      "Precision should be between 0 and 55\n",
      "Please precise the number of digits you want to print:   57\n",
      "Please precise the number of digits you want to print:   60\n",
      "Please precise the number of digits you want to print:   x\n",
      "Please precise the number of digits you want to print:   641\n",
      "Please precise the number of digits you want to print:   \n",
      "Please precise the number of digits you want to print:   1\n",
      "Please precise the number of digits you want to print:   2\n"
     ]
    }
   ],
   "source": [
    "\n",
    "correct_input = False\n",
    "try_loop =  True\n",
    "while not correct_input:\n",
    "    print('Precision should be between 0 and 55')\n",
    "    while try_loop:\n",
    "        try: \n",
    "            digit_number = input('Please precise the number of digits you want to print:   ')\n",
    "        except: \n",
    "            print('That is not a number')\n",
    "        else:\n",
    "            correct_input =  True\n",
    "    if 55>= precision >0:\n",
    "        correct_input =  True\n",
    "print(round(e,digit_number))\n",
    "\n",
    "                \n"
   ]
  },
  {
   "cell_type": "code",
   "execution_count": null,
   "metadata": {},
   "outputs": [],
   "source": []
  },
  {
   "cell_type": "code",
   "execution_count": null,
   "metadata": {},
   "outputs": [],
   "source": []
  }
 ],
 "metadata": {
  "kernelspec": {
   "display_name": "Python 3",
   "language": "python",
   "name": "python3"
  },
  "language_info": {
   "codemirror_mode": {
    "name": "ipython",
    "version": 3
   },
   "file_extension": ".py",
   "mimetype": "text/x-python",
   "name": "python",
   "nbconvert_exporter": "python",
   "pygments_lexer": "ipython3",
   "version": "3.7.0"
  }
 },
 "nbformat": 4,
 "nbformat_minor": 2
}
