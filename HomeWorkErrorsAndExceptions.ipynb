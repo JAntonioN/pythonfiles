{
 "cells": [
  {
   "cell_type": "code",
   "execution_count": 4,
   "metadata": {},
   "outputs": [],
   "source": [
    "def ask():\n",
    "    while True:\n",
    "        try:\n",
    "            r = int(input('Input a number:  '))\n",
    "        except:\n",
    "            print('Error, try again')\n",
    "            continue\n",
    "        else:\n",
    "            print(f'the square of the mumber is {r**2}')\n",
    "            break"
   ]
  },
  {
   "cell_type": "code",
   "execution_count": 5,
   "metadata": {},
   "outputs": [
    {
     "name": "stdout",
     "output_type": "stream",
     "text": [
      "Input a number:  q\n",
      "Error, try again\n",
      "Input a number:  2\n",
      "the square of the mumber is 4\n"
     ]
    }
   ],
   "source": [
    "ask()"
   ]
  },
  {
   "cell_type": "code",
   "execution_count": 3,
   "metadata": {},
   "outputs": [
    {
     "name": "stdout",
     "output_type": "stream",
     "text": [
      "Input a numberq\n",
      "Error, try again\n",
      "Input a numberq\n",
      "Error, try again\n",
      "Input a numberq\n",
      "Error, try again\n",
      "Input a numberq\n",
      "Error, try again\n",
      "Input a numberq\n",
      "Error, try again\n",
      "Input a numberq\n",
      "Error, try again\n",
      "Input a numberq\n",
      "Error, try again\n",
      "Input a numberq\n",
      "Error, try again\n",
      "Input a numberq\n",
      "Error, try again\n",
      "Input a number2\n",
      "the square of the mumber is 4\n"
     ]
    }
   ],
   "source": [
    "ask()"
   ]
  },
  {
   "cell_type": "code",
   "execution_count": null,
   "metadata": {},
   "outputs": [],
   "source": [
    "try:\n",
    "    x = 5\n",
    "    y = 1\n",
    "    z = x/y\n",
    "    print(z)\n",
    "except ZeroDivisionError:\n",
    "    print('Division is undefined')"
   ]
  },
  {
   "cell_type": "code",
   "execution_count": 1,
   "metadata": {},
   "outputs": [
    {
     "name": "stdout",
     "output_type": "stream",
     "text": [
      "Typo mistake\n"
     ]
    }
   ],
   "source": [
    "try:\n",
    "    for i in ['a','b','c']:\n",
    "        print(i**2)\n",
    "except TypeError:\n",
    "    print('Typo mistake')"
   ]
  },
  {
   "cell_type": "code",
   "execution_count": 2,
   "metadata": {},
   "outputs": [],
   "source": [
    "def ask():\n",
    "    while True:\n",
    "        try:\n",
    "            r = int(input('Input a number:  '))\n",
    "        except:\n",
    "            print('Error, try again')\n",
    "            continue\n",
    "        else:\n",
    "            break\n",
    "    print(f'the square of the mumber is {r**2}') #está más ordenado."
   ]
  },
  {
   "cell_type": "code",
   "execution_count": 3,
   "metadata": {},
   "outputs": [
    {
     "name": "stdout",
     "output_type": "stream",
     "text": [
      "Input a number:  2\n",
      "the square of the mumber is 4\n"
     ]
    }
   ],
   "source": [
    "ask()"
   ]
  }
 ],
 "metadata": {
  "kernelspec": {
   "display_name": "Python 3",
   "language": "python",
   "name": "python3"
  },
  "language_info": {
   "codemirror_mode": {
    "name": "ipython",
    "version": 3
   },
   "file_extension": ".py",
   "mimetype": "text/x-python",
   "name": "python",
   "nbconvert_exporter": "python",
   "pygments_lexer": "ipython3",
   "version": "3.7.0"
  }
 },
 "nbformat": 4,
 "nbformat_minor": 2
}
