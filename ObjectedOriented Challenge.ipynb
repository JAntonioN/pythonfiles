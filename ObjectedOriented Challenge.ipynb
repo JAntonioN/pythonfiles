{
 "cells": [
  {
   "cell_type": "code",
   "execution_count": 1,
   "metadata": {},
   "outputs": [],
   "source": [
    "class Account():\n",
    "    def __init__(self, owner, balance):\n",
    "        self.balance = balance\n",
    "        self.owner = owner\n",
    "    def __str__(self): #helps for printing\n",
    "        return f'Account owner: {self.owner} \\nAccount balance: ${self.balance}'\n",
    "    def deposit(self, depo):\n",
    "        self.balance = self.balance + depo\n",
    "        print(f'A deposit of ${depo} was made, the new balance is ${self.balance}')\n",
    "    def withdraw(self, withdr):\n",
    "        if self.balance-withdr >= 0:\n",
    "            self.balance = self.balance - withdr\n",
    "            print(f'A withdrawn of ${withdr} was made, the new balance is ${self.balance}')\n",
    "        else:\n",
    "            print(f'Withdrawn of ${withdr} unacceptable because the balance is ${self.balance}')\n",
    "    \n",
    "                "
   ]
  },
  {
   "cell_type": "code",
   "execution_count": null,
   "metadata": {},
   "outputs": [],
   "source": []
  },
  {
   "cell_type": "code",
   "execution_count": 2,
   "metadata": {},
   "outputs": [],
   "source": [
    "a = Account('Antonio', 1000000)"
   ]
  },
  {
   "cell_type": "code",
   "execution_count": 3,
   "metadata": {},
   "outputs": [
    {
     "name": "stdout",
     "output_type": "stream",
     "text": [
      "Account owner: Antonio \n",
      "Account balance: $1000000\n"
     ]
    }
   ],
   "source": [
    "print(a)"
   ]
  },
  {
   "cell_type": "code",
   "execution_count": 4,
   "metadata": {},
   "outputs": [
    {
     "data": {
      "text/plain": [
       "'Antonio'"
      ]
     },
     "execution_count": 4,
     "metadata": {},
     "output_type": "execute_result"
    }
   ],
   "source": [
    "a.owner"
   ]
  },
  {
   "cell_type": "code",
   "execution_count": 5,
   "metadata": {},
   "outputs": [
    {
     "name": "stdout",
     "output_type": "stream",
     "text": [
      "A deposit of $500 was made, the new balance is $1000500\n"
     ]
    }
   ],
   "source": [
    "a.deposit(500)"
   ]
  },
  {
   "cell_type": "code",
   "execution_count": 6,
   "metadata": {},
   "outputs": [
    {
     "name": "stdout",
     "output_type": "stream",
     "text": [
      "A withdrawn of $1000000 was made, the new balance is $500\n"
     ]
    }
   ],
   "source": [
    "a.withdraw(1000000)"
   ]
  },
  {
   "cell_type": "code",
   "execution_count": 7,
   "metadata": {},
   "outputs": [
    {
     "name": "stdout",
     "output_type": "stream",
     "text": [
      "A withdrawn of $500 was made, the new balance is $0\n"
     ]
    }
   ],
   "source": [
    "a.withdraw(500)"
   ]
  },
  {
   "cell_type": "code",
   "execution_count": 62,
   "metadata": {},
   "outputs": [
    {
     "name": "stdout",
     "output_type": "stream",
     "text": [
      "Withdrawn of $1 unacceptable because the balance is $0\n"
     ]
    }
   ],
   "source": [
    "a.withdraw(1)"
   ]
  }
 ],
 "metadata": {
  "kernelspec": {
   "display_name": "Python 3",
   "language": "python",
   "name": "python3"
  },
  "language_info": {
   "codemirror_mode": {
    "name": "ipython",
    "version": 3
   },
   "file_extension": ".py",
   "mimetype": "text/x-python",
   "name": "python",
   "nbconvert_exporter": "python",
   "pygments_lexer": "ipython3",
   "version": "3.7.0"
  }
 },
 "nbformat": 4,
 "nbformat_minor": 2
}
