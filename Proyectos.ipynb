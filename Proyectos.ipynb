{
 "cells": [
  {
   "cell_type": "code",
   "execution_count": null,
   "metadata": {},
   "outputs": [],
   "source": [
    "from math import e\n",
    "from math import pi"
   ]
  },
  {
   "cell_type": "code",
   "execution_count": null,
   "metadata": {},
   "outputs": [],
   "source": [
    "pi"
   ]
  },
  {
   "cell_type": "code",
   "execution_count": null,
   "metadata": {},
   "outputs": [],
   "source": [
    "\n",
    "correct_input =  False\n",
    "\n",
    "while not correct_input:\n",
    "    while True:\n",
    "        try:  \n",
    "            x = int(input('Please provide a number between 0 and 55:  '))\n",
    "        except:\n",
    "            print('Please provide an interget')\n",
    "        else: \n",
    "            break\n",
    "    if 55 >= x > 0:\n",
    "        correct_input = True\n",
    "        euler_precise = round(e,x)\n",
    "    else:\n",
    "        print('Wrong! Precision out of bounds')\n",
    "print(f'This is the euler number with {x} decimal precision:  {euler_precise}')"
   ]
  },
  {
   "cell_type": "code",
   "execution_count": null,
   "metadata": {},
   "outputs": [],
   "source": [
    "\n",
    "correct_input =  True\n",
    "\n",
    "while correct_input:\n",
    "    while True:\n",
    "        try:  \n",
    "            x = int(input('Please provide a number between 0 and 55:  '))\n",
    "        except:\n",
    "            print('Please provide an interger')\n",
    "        else: \n",
    "            break\n",
    "    if 55 >= x > 0:\n",
    "        correct_input = False\n",
    "        euler_precise = round(e,x)\n",
    "    else:\n",
    "        print('Wrong! Precision out of bounds')\n",
    "print(f'This is the euler number with {x} decimal precision:  {euler_precise}')"
   ]
  },
  {
   "cell_type": "code",
   "execution_count": null,
   "metadata": {},
   "outputs": [],
   "source": [
    "\n",
    "def apalancamiento(capital, pasivos):\n",
    "    return pasivos/capital"
   ]
  },
  {
   "cell_type": "code",
   "execution_count": null,
   "metadata": {},
   "outputs": [],
   "source": []
  },
  {
   "cell_type": "code",
   "execution_count": null,
   "metadata": {},
   "outputs": [],
   "source": [
    "apalancamiento(50,100)"
   ]
  },
  {
   "cell_type": "code",
   "execution_count": null,
   "metadata": {},
   "outputs": [],
   "source": []
  },
  {
   "cell_type": "code",
   "execution_count": null,
   "metadata": {},
   "outputs": [],
   "source": []
  },
  {
   "cell_type": "code",
   "execution_count": null,
   "metadata": {},
   "outputs": [],
   "source": [
    "apalancamiento_mal = True\n",
    "\n",
    "while apalancamiento_mal:\n",
    "    while True:\n",
    "        try:\n",
    "            c = int(input('Por favor caputra el capital:  '))\n",
    "            p = int(input('Por favor caputra el pasivo:  '))\n",
    "            ap = apalancamiento(c,p)\n",
    "        except:\n",
    "            print('Oye captura números')\n",
    "        else:\n",
    "            break\n",
    "    if ap <= 2.0:\n",
    "            apalancamiento_mal =  False\n",
    "            print(f'Esta empresa está bien!! El nivel de apalancamiento es de {ap}')\n",
    "    else:\n",
    "            print('Favor de ingresar otra empresa que cumpla con la politica')\n",
    "            \n"
   ]
  },
  {
   "cell_type": "code",
   "execution_count": null,
   "metadata": {},
   "outputs": [],
   "source": [
    "cont =  True\n",
    "while cont:\n",
    "    while True:\n",
    "        try:\n",
    "            num_prec =  int(input('Favor de indicar el número de decimales que quieres mostrar de pi:    '))\n",
    "        except:\n",
    "            print('Intenta de nuevo, ese no es un número')\n",
    "        else:\n",
    "            round_pi = round(pi,num_prec)\n",
    "            print(f'El número pi es: {round_pi}')\n",
    "            break\n",
    "    cont =  False\n",
    "        "
   ]
  },
  {
   "cell_type": "code",
   "execution_count": null,
   "metadata": {},
   "outputs": [],
   "source": [
    "#Fibonacci generator"
   ]
  },
  {
   "cell_type": "code",
   "execution_count": null,
   "metadata": {},
   "outputs": [],
   "source": [
    "def genfib(n):\n",
    "    a = 1\n",
    "    b = 1\n",
    "    for i in range(n):\n",
    "        a,b = b,a+b\n",
    "        yield a"
   ]
  },
  {
   "cell_type": "code",
   "execution_count": null,
   "metadata": {},
   "outputs": [],
   "source": [
    "genfib(5)"
   ]
  },
  {
   "cell_type": "code",
   "execution_count": null,
   "metadata": {},
   "outputs": [],
   "source": [
    "for number in genfib(5):\n",
    "    print(number)"
   ]
  },
  {
   "cell_type": "code",
   "execution_count": null,
   "metadata": {},
   "outputs": [],
   "source": [
    "def gen_fib_list(n):\n",
    "    a = 1\n",
    "    b = 1\n",
    "    output = []\n",
    "    for i in range(n):\n",
    "        a,b =  b,b+a\n",
    "        output.append(a)\n",
    "    return output"
   ]
  },
  {
   "cell_type": "code",
   "execution_count": null,
   "metadata": {},
   "outputs": [],
   "source": [
    "gen_fib_list(5)"
   ]
  },
  {
   "cell_type": "code",
   "execution_count": null,
   "metadata": {},
   "outputs": [],
   "source": [
    "f = input('Favor de indicar si quieres o no imprimir el siguiente número primo:  ')"
   ]
  },
  {
   "cell_type": "code",
   "execution_count": null,
   "metadata": {},
   "outputs": [],
   "source": [
    "type(f.lower())"
   ]
  },
  {
   "cell_type": "code",
   "execution_count": null,
   "metadata": {},
   "outputs": [],
   "source": [
    "contador = 0"
   ]
  },
  {
   "cell_type": "code",
   "execution_count": null,
   "metadata": {},
   "outputs": [],
   "source": [
    "seguir = True\n",
    "trigger = True\n",
    "\n",
    "while trigger:\n",
    "\n",
    "    f = input('Do you want to print the next prime number(type yes or no)?:  ')\n",
    "    \n",
    "    if f.lower() == 'yes':\n",
    "        contador = contador + 1\n",
    "        trigger = False\n",
    "        break\n",
    "    elif f.lower() == 'no':\n",
    "        contador = contador\n",
    "        seguir =  False\n",
    "        trigger = False\n",
    "        break\n",
    "    else:\n",
    "        print('Please type yes or no')\n",
    "        trigger = True\n",
    "        continue\n"
   ]
  },
  {
   "cell_type": "code",
   "execution_count": null,
   "metadata": {},
   "outputs": [],
   "source": [
    "contador"
   ]
  },
  {
   "cell_type": "code",
   "execution_count": null,
   "metadata": {},
   "outputs": [],
   "source": [
    "def prime_generator_yield(n):\n",
    "    for number in range(2,n+1):\n",
    "        prime = True\n",
    "        for number_p in range(2, number):\n",
    "            if number % number_p == 0:\n",
    "                prime =  False\n",
    "        if prime:\n",
    "            yield number\n",
    "#this one is quickier"
   ]
  },
  {
   "cell_type": "code",
   "execution_count": null,
   "metadata": {},
   "outputs": [],
   "source": [
    "def prime_generator(n):\n",
    "    prime_list = []\n",
    "    for number in range(2,n+1):\n",
    "        prime = True\n",
    "        for number_p in range(2, number):\n",
    "            if number % number_p == 0:\n",
    "                prime =  False\n",
    "        if prime:\n",
    "            prime_list.append(number)\n",
    "    return(prime_list)"
   ]
  },
  {
   "cell_type": "code",
   "execution_count": null,
   "metadata": {},
   "outputs": [],
   "source": [
    "x = list(prime_generator_yield(5))\n",
    "x"
   ]
  },
  {
   "cell_type": "code",
   "execution_count": null,
   "metadata": {},
   "outputs": [],
   "source": [
    "prime_generator(5)"
   ]
  },
  {
   "cell_type": "code",
   "execution_count": null,
   "metadata": {},
   "outputs": [],
   "source": [
    "while True:\n",
    "        try:\n",
    "            n = int(input('Untile what number would you like me to generate your prime list?   '))\n",
    "            break\n",
    "        except ValueError:\n",
    "            print('Sorry, you should enter an integer!')\n",
    "            \n",
    "contador = 0            \n",
    "trigger = True\n",
    "prime_list = list(prime_generator(n))\n",
    "    \n",
    "while trigger:\n",
    "\n",
    "    f = input('Do you want to print the next prime number(type yes or no)?:  ')\n",
    "    if f.lower() == 'yes':\n",
    "        contador = contador + 1\n",
    "        if contador <= len(prime_list):   \n",
    "            print(prime_list[contador-1])\n",
    "            trigger = True\n",
    "            continue\n",
    "        else:\n",
    "            trigger = False\n",
    "    elif f.lower() == 'no':\n",
    "        contador = contador\n",
    "        trigger = False\n",
    "    else:\n",
    "        print('Please type yes or no')\n",
    "        trigger = True\n",
    "        continue\n",
    "    print('There is no more primes to show')\n",
    "    break"
   ]
  },
  {
   "cell_type": "code",
   "execution_count": null,
   "metadata": {},
   "outputs": [],
   "source": [
    "n =  99\n",
    "prime_factors = []\n",
    "i = 0\n",
    "prime_list = list(prime_generator(n))\n",
    "for number in prime_list:\n",
    "    while n % number == 0:\n",
    "        while n % prime_list[i] == 0:\n",
    "            n = n/prime_list[i]\n",
    "            prime_factors.append(prime_list[i])\n",
    "        i = i+1\n",
    "print(n)"
   ]
  },
  {
   "cell_type": "code",
   "execution_count": null,
   "metadata": {},
   "outputs": [],
   "source": [
    "def prime_calculator(n):\n",
    "    prime_factors = []\n",
    "    prime_list = list(prime_generator_yield(n))\n",
    "    i = 0\n",
    "    for number in prime_list:\n",
    "        while n % number == 0:\n",
    "            while n % prime_list[i] == 0:\n",
    "                n = n/prime_list[i]\n",
    "                prime_factors.append(prime_list[i])\n",
    "            i =i+1\n",
    "    return(prime_factors)"
   ]
  },
  {
   "cell_type": "code",
   "execution_count": null,
   "metadata": {},
   "outputs": [],
   "source": [
    "prime_calculator(99)"
   ]
  },
  {
   "cell_type": "code",
   "execution_count": null,
   "metadata": {},
   "outputs": [],
   "source": []
  },
  {
   "cell_type": "code",
   "execution_count": null,
   "metadata": {},
   "outputs": [],
   "source": [
    "def fibo_gen(n):\n",
    "    a = 1\n",
    "    b = 1\n",
    "    for i in range(n):\n",
    "        a,b = b, a+b\n",
    "        yield a\n",
    "for i in fibo_gen(5):\n",
    "    print(i)"
   ]
  },
  {
   "cell_type": "code",
   "execution_count": null,
   "metadata": {},
   "outputs": [],
   "source": [
    "lambda cost, heigth, width: cost*heigth*width"
   ]
  },
  {
   "cell_type": "code",
   "execution_count": null,
   "metadata": {},
   "outputs": [],
   "source": [
    "\n",
    "c = True\n",
    "h = True\n",
    "w = True\n",
    "\n",
    "while c:\n",
    "    try:\n",
    "        cost = float(input('Please input the cost of tile:   '))\n",
    "        c = False\n",
    "    except ValueError:\n",
    "        print('The cost needs to be a number')\n",
    "        continue\n",
    "    while h:\n",
    "        try:\n",
    "            heigth = float(input('Please provide the heigth: '))\n",
    "            h = False\n",
    "        except ValueError:\n",
    "            print('The heigth must be a number')\n",
    "            continue\n",
    "        while w:\n",
    "            try: \n",
    "                width = float(input('Please provide the width:  '))\n",
    "                w = False\n",
    "            except ValueError:\n",
    "                print('Width should be a number')\n",
    "                continue\n",
    "                \n",
    "cost*heigth*width"
   ]
  },
  {
   "cell_type": "code",
   "execution_count": null,
   "metadata": {},
   "outputs": [],
   "source": [
    "def payments(nominal,interest_rate, payment_days, number_payments):\n",
    "    payment = nominal*(((interest_rate*payment_days/360)*(1+(interest_rate*payment_days/360))**(number_payments))/((1+(interest_rate*payment_days/360))**(number_payments)-1))\n",
    "    return payment"
   ]
  },
  {
   "cell_type": "code",
   "execution_count": null,
   "metadata": {},
   "outputs": [],
   "source": [
    "payments(100,0.08,30,12)"
   ]
  },
  {
   "cell_type": "code",
   "execution_count": null,
   "metadata": {},
   "outputs": [],
   "source": [
    "n = True\n",
    "i = True\n",
    "p = True\n",
    "n_p = True\n",
    "\n",
    "while n:\n",
    "    try:\n",
    "        nominal = float(input('Please provide the nominal:   '))\n",
    "        n = False\n",
    "    except ValueError:\n",
    "        print('It should be a number!')\n",
    "        continue\n",
    "    while i:\n",
    "        try:\n",
    "            interest_rate = float(input('Please provide the anual interest rate:   '))\n",
    "            i = False\n",
    "        except ValueError:\n",
    "            print('It should be a number!')\n",
    "            continue\n",
    "        while p:\n",
    "            try:\n",
    "                payment_days = float(input('Please provide the length of the payments in days:   '))\n",
    "                p = False\n",
    "            except ValueError:\n",
    "                print('It should be a number!')\n",
    "                continue\n",
    "        while n_p:\n",
    "            try:\n",
    "                number_payments = float(input('Please provide the number of payments:   '))\n",
    "                n_p = False\n",
    "            except ValueError:\n",
    "                print('It should be a number!')\n",
    "                continue\n",
    "                \n",
    "payments(nominal, interest_rate, payment_days, number_payments) #or just paste here the formula for it to run it"
   ]
  },
  {
   "cell_type": "code",
   "execution_count": null,
   "metadata": {},
   "outputs": [],
   "source": [
    "cost = 0\n",
    "money = -1\n",
    "change = 0\n",
    "lack_of_money =  True\n",
    "c_counter = 0\n",
    "q_counter = 0\n",
    "d_counter = 0\n",
    "n_counter = 0\n",
    "p_counter = 0\n",
    "\n",
    "while lack_of_money:\n",
    "    while True:\n",
    "        try:\n",
    "            cost = float(input('Please provide the cost:   '))\n",
    "            money = float(input('Please provide the amount of your payment:   '))\n",
    "            change = money - cost\n",
    "            break\n",
    "        except ValueError:\n",
    "            print('You need to provide numbers!')\n",
    "            continue\n",
    "    if change < 0:\n",
    "        print ('There is not enough money to pay! ')\n",
    "    else:\n",
    "        lack_of_money = False\n",
    "    or_change = round(change,2)\n",
    "    while change >= 1.00:\n",
    "        c_counter += 1\n",
    "        change -= 1\n",
    "    while change >= 0.25:\n",
    "        q_counter += 1\n",
    "        change -= 0.25\n",
    "    while change >= 0.10:\n",
    "        d_counter +=1\n",
    "        change -= 0.10\n",
    "    while change >= 0.05:\n",
    "        n_counter +=1\n",
    "        change -= 0.05\n",
    "    while change >= 0.01:\n",
    "        p_counter +=1\n",
    "        change -= 0.01\n",
    "\n",
    "print(f'Your change is {or_change} dolars that will be divided in {c_counter} dolars in bills, {q_counter} quarters, {d_counter} dimes, {n_counter} nices and {p_counter} pennies!')"
   ]
  },
  {
   "cell_type": "code",
   "execution_count": null,
   "metadata": {},
   "outputs": [],
   "source": [
    "def sq_cal(i):\n",
    "    for x in range(i+1):\n",
    "        yield 2**x"
   ]
  },
  {
   "cell_type": "code",
   "execution_count": null,
   "metadata": {},
   "outputs": [],
   "source": [
    "s1 = sq_cal(3)"
   ]
  },
  {
   "cell_type": "code",
   "execution_count": null,
   "metadata": {},
   "outputs": [],
   "source": [
    "for number in s1:\n",
    "    print(number)"
   ]
  },
  {
   "cell_type": "code",
   "execution_count": null,
   "metadata": {},
   "outputs": [],
   "source": [
    "s2 = list(sq_cal(2))[::-1]\n",
    "s2"
   ]
  },
  {
   "cell_type": "code",
   "execution_count": null,
   "metadata": {},
   "outputs": [],
   "source": [
    "def mult(binary, s_list):\n",
    "    for i in range(len(binary)):\n",
    "        yield binary[i]*s_list[i]\n",
    "\n",
    "def n_separate(bin_num):\n",
    "    for i in str(bin_num):\n",
    "        yield int(i)\n"
   ]
  },
  {
   "cell_type": "code",
   "execution_count": null,
   "metadata": {},
   "outputs": [],
   "source": [
    "other =  True\n",
    "keep_runing = True\n",
    "while keep_runing:\n",
    "    while other:\n",
    "        type_convertion =  str(input('Please indicate if you want decimal to binary by writing decimal or binary to decimal by writing binary:   ')).lower()\n",
    "\n",
    "        #decimal converter\n",
    "        \n",
    "        if type_convertion == 'decimal':\n",
    "            other = False\n",
    "            print('I will run the decimal converter')\n",
    "            incorrect_number = True\n",
    "            while incorrect_number:\n",
    "                try:\n",
    "                    number = int(input('Please provide the number you want to convert into binary:   '))\n",
    "                    incorrect_number = False\n",
    "                except ValueError:\n",
    "                    print('Please provide an interger, no other type will be accepted')\n",
    "            len_counter = 1\n",
    "            number_n = number\n",
    "            while number_n > 1:\n",
    "                len_counter += 1\n",
    "                number_n = int(number_n/2)\n",
    "\n",
    "            if number_n == 1:    \n",
    "                bin_equivalence = [0]*(len_counter+1)\n",
    "            else:\n",
    "                bin_equivalence = [0]*(len_counter)\n",
    "\n",
    "            i = 0\n",
    "            number_cont = True\n",
    "\n",
    "            while number > 1:\n",
    "                if number % 2 == 0:\n",
    "                    bin_equivalence[i] = 0\n",
    "                    i +=1\n",
    "                    number= int(number/2)\n",
    "\n",
    "                else :\n",
    "                    bin_equivalence[i] = 1\n",
    "                    i +=1\n",
    "                    number = int(number/2)\n",
    "            if number == 1:\n",
    "                bin_equivalence[i] = 1\n",
    "                \n",
    "            \n",
    "            print(int(''.join(str(i) for i in bin_equivalence[0:i+1][::-1])))\n",
    "      \n",
    "            #binary converter\n",
    "        \n",
    "        elif type_convertion == 'binary':\n",
    "            other = False\n",
    "            print('I will run the binary converter')\n",
    "            incorrect_binary = True\n",
    "            while incorrect_binary:\n",
    "                incorrect_string = True\n",
    "                while incorrect_string:\n",
    "                    try:\n",
    "                        bin_num = int(input('Please provide the binary number:  '))\n",
    "                        incorrect_string = False\n",
    "                    except ValueError:\n",
    "                        print('Please provide a number, no strings are accepted')\n",
    "                binary = list(n_separate(bin_num))\n",
    "                s_list = list(sq_cal(len(binary)-1))[::-1]\n",
    "                l_proof = [0]*len(s_list)\n",
    "                for i in range(len(binary)):\n",
    "                    if (binary[i] == 1) or (binary[i] == 0):\n",
    "                        l_proof[i] = 1\n",
    "                    else:\n",
    "                        l_proof[i] = 0\n",
    "                if sum(l_proof) == len(s_list):\n",
    "                    incorrect_binary = False\n",
    "                else:\n",
    "                    incorrect_binary = True\n",
    "                    print('You are not providing a binary number')\n",
    "                    is_not_string =  False\n",
    "\n",
    "            mult(binary, s_list)       \n",
    "            matrix = list(mult(binary, s_list))\n",
    "            print(sum(matrix))\n",
    "                \n",
    "           \n",
    "            \n",
    "            \n",
    "        else:\n",
    "            print('Please provide decimal or binary')\n",
    "            other = True\n",
    "        incorrect_answer = True\n",
    "        while incorrect_answer:\n",
    "            ans = str(input('do you want to continue converting? Please input yes or no:  ')).lower()\n",
    "            if (ans == 'yes') or (ans == 'no'):\n",
    "                incorrect_answer = False\n",
    "    \n",
    "            else:\n",
    "                print('Please provide yes or no')\n",
    "                incorrect_answer = True\n",
    "         \n",
    "        #keep conerting loop\n",
    "        \n",
    "        if ans == 'yes':\n",
    "            keep_runing = True\n",
    "            #important to reset my other while loop\n",
    "            other = True\n",
    "            continue\n",
    "        else:\n",
    "            keep_runing = False\n",
    "            break\n"
   ]
  },
  {
   "cell_type": "code",
   "execution_count": null,
   "metadata": {},
   "outputs": [],
   "source": [
    "def suma_resta(*args):\n",
    "    return(sum(args))\n",
    "    "
   ]
  },
  {
   "cell_type": "code",
   "execution_count": null,
   "metadata": {},
   "outputs": [],
   "source": [
    "suma_resta(1,1,1,1)"
   ]
  },
  {
   "cell_type": "code",
   "execution_count": null,
   "metadata": {},
   "outputs": [],
   "source": [
    "def multiplicación(*args):\n",
    "    l = list(args)\n",
    "    m = 1\n",
    "    for i in range(0,len(l)):\n",
    "        m = m*l[i]\n",
    "    return m"
   ]
  },
  {
   "cell_type": "code",
   "execution_count": null,
   "metadata": {},
   "outputs": [],
   "source": [
    "m = 1\n",
    "[int(numeros(i)) for i in range(0, len)]"
   ]
  },
  {
   "cell_type": "code",
   "execution_count": null,
   "metadata": {},
   "outputs": [],
   "source": [
    "def resta(*args):\n",
    "    l = list(args)\n",
    "    r = 0\n",
    "    for i in range(0,len(l)):\n",
    "        r = r-l[i]\n",
    "    return r"
   ]
  },
  {
   "cell_type": "code",
   "execution_count": null,
   "metadata": {},
   "outputs": [],
   "source": [
    "resta(-1,2,-3)"
   ]
  },
  {
   "cell_type": "code",
   "execution_count": null,
   "metadata": {},
   "outputs": [],
   "source": []
  },
  {
   "cell_type": "code",
   "execution_count": null,
   "metadata": {},
   "outputs": [],
   "source": [
    "multiplicación(2,2,2,2)"
   ]
  },
  {
   "cell_type": "code",
   "execution_count": null,
   "metadata": {},
   "outputs": [],
   "source": [
    "numeros = list(input('Favor de poner lo que quieras restar o sumar:   '))\n",
    "print(numeros)\n",
    "lista_vacia =  [0]*int((len(numeros)/2) + 0.5)\n",
    "len(lista_vacia)\n"
   ]
  },
  {
   "cell_type": "code",
   "execution_count": null,
   "metadata": {},
   "outputs": [],
   "source": [
    "sum([(numeros[i]) for i in range(0,len(numeros),2)])"
   ]
  },
  {
   "cell_type": "code",
   "execution_count": null,
   "metadata": {},
   "outputs": [],
   "source": [
    "numeros = list(input('Favor de poner los números que quieres sumar y/o restar:   '))\n"
   ]
  },
  {
   "cell_type": "code",
   "execution_count": null,
   "metadata": {},
   "outputs": [],
   "source": [
    "numeros = list(input('Probando como unir los numeros que son negativos con su símbolo:   '))\n",
    "for i in range(len(numeros)):\n",
    "    if numeros[i-1] == '-':\n",
    "        numeros[i] = numeros[i-1]+numeros[i] \n",
    "    if numeros[i] == '.': #no se como hacer para que me combinen los numeros con los puntos\n",
    "        numeros[i] == numeros[i-1]+numeros[i]+numeros[i+1]\n",
    "n = [i for i in numeros if i !='-']\n",
    "n_2 = [int(n[i]) for i in range(0,len(n),2)]\n",
    "n_2"
   ]
  },
  {
   "cell_type": "code",
   "execution_count": null,
   "metadata": {},
   "outputs": [],
   "source": [
    "numeros = list(input('Probando como unir los numeros que son negativos con su símbolo:   '))\n",
    "for i in range(len(numeros)):\n",
    "    if numeros[i-1] == '-':\n",
    "        numeros[i] = numeros[i-1]+numeros[i] \n",
    "n = [i for i in numeros if i !='-']\n",
    "n_2 = [int(n[i]) for i in range(0,len(n),2)]\n",
    "n_2"
   ]
  },
  {
   "cell_type": "code",
   "execution_count": null,
   "metadata": {},
   "outputs": [],
   "source": [
    "print('Bienvenido a esta calculadora, usted puede realizar \\n sumas, restas, multiplicaciones y divisiones \\nFavor de indicar sumar o restar para resta o suma,multiplicar para multiplicacion o dividir para division \\nTodos los números que quieras usar para las operaciones deberan de estar separados por una coma')\n",
    "\n",
    "error_operacion = True\n",
    "while error_operacion:\n",
    "    respuesta = input('Por favor indica que operación quieres generar:    ').lower()\n",
    "\n",
    "    #if respuesta == 'sumar':\n",
    "            #numeros = list(input('Favor de poner lo que quieras restar o sumar:   '))\n",
    "            #r = sum([int(numeros[i]) for i in range(0,len(numeros),2)])\n",
    "            #error_operacion = False\n",
    "            #break\n",
    "    if respuesta == 'restar' or respuesta == 'sumar': #tambien pude haber agregado la suma en este mimso if\n",
    "            numeros = list(input('Favor de poner los números que quieres sumar y/o restar:   '))\n",
    "            print('Favor de poner lo que vas a querer restar en negativo')\n",
    "            r = 0\n",
    "            for i in range(len(numeros)):\n",
    "                if numeros[i-1] == '-':\n",
    "                    numeros[i] = numeros[i-1]+numeros[i]\n",
    "        \n",
    "            n = [i for i in numeros if i !='-']\n",
    "            n_2 = [int(n[i]) for i in range(0,len(n),2)]\n",
    "            for i in range(0,len(n_2)):\n",
    "                r = r+n_2[i]\n",
    "            error_operacion = False\n",
    "            break\n",
    "    elif respuesta == 'multiplicar':\n",
    "            numeros = list(input('Favor de poner los números que quieres multiplicar:   '))\n",
    "            r = 1\n",
    "            for i in range(len(numeros)):\n",
    "                if numeros[i-1] == '-':\n",
    "                    numeros[i] = numeros[i-1]+numeros[i] \n",
    "            n = [i for i in numeros if i !='-']\n",
    "            n_2 = [int(n[i]) for i in range(0,len(n),2)]\n",
    "            for i in range(0,len(n_2)):\n",
    "                r = r*n_2[i]\n",
    "            error_operacion = False\n",
    "            break\n",
    "    elif respuesta == 'dividir':\n",
    "            numeros = list(input('Favor de poner los numeros que quieres dividir. Se va a tomar el primero como numerador y el segundo como denominador'))\n",
    "            for i in range(len(numeros)):\n",
    "                if numeros[i-1] == '-':\n",
    "                    numeros[i] = numeros[i-1]+numeros[i]\n",
    "        \n",
    "            n = [i for i in numeros if i !='-']\n",
    "            n_2 = [int(n[i]) for i in range(0,len(n),2)]\n",
    "            r = n_2[0]\n",
    "            for i in range(1,len(n)):\n",
    "                r = r/n[i]\n",
    "            error_operacion = False\n",
    "            break\n",
    "    else:\n",
    "        print('Favor de indicar sumar, restar, multiplicar o dividir')\n",
    "        continue\n",
    "    \n",
    "float(r)\n"
   ]
  },
  {
   "cell_type": "code",
   "execution_count": null,
   "metadata": {},
   "outputs": [],
   "source": [
    "print('Bienvenido a esta calculadora, usted puede realizar \\n sumas, restas, multiplicaciones y divisiones \\nFavor de indicar sumar o restar para resta o suma,multiplicar para multiplicacion o dividir para division \\nTodos los números que quieras usar para las operaciones deberan de estar separados por una coma')\n",
    "\n",
    "error_operacion = True\n",
    "while error_operacion:\n",
    "    respuesta = input('Por favor indica que operación quieres generar:    ').lower()\n",
    "\n",
    "    #if respuesta == 'sumar':\n",
    "            #numeros = list(input('Favor de poner lo que quieras restar o sumar:   '))\n",
    "            #r = sum([int(numeros[i]) for i in range(0,len(numeros),2)])\n",
    "            #error_operacion = False\n",
    "            #break\n",
    "    if respuesta == 'restar' or respuesta == 'sumar': #tambien pude haber agregado la suma en este mimso if\n",
    "            numeros = (input('Favor de poner los números que quieres sumar y/o restar:   '))\n",
    "            print('Favor de poner lo que vas a querer restar en negativo')\n",
    "            r = 0\n",
    "            numeros = numeros.split(',')\n",
    "            numeros = [float(i) for i in numeros if i!= ',']\n",
    "            for i in range(0,len(numeros)):\n",
    "                r = r+numeros[i]\n",
    "            error_operacion = False\n",
    "            break\n",
    "    elif respuesta == 'multiplicar':\n",
    "            numeros = (input('Favor de poner los números que quieres multiplicar:   '))\n",
    "            r = 1\n",
    "            numeros = numeros.split(',')\n",
    "            numeros = [float(i) for i in numeros if i!= ',']\n",
    "            for i in range(0,len(numeros)):\n",
    "                r = r*numeros[i]\n",
    "            error_operacion = False\n",
    "            break\n",
    "    elif respuesta == 'dividir':\n",
    "            numeros = (input('Favor de poner los numeros que quieres dividir. Se va a tomar el primero como numerador y el segundo como denominado.   '))\n",
    "            numeros = numeros.split(',')\n",
    "            numeros = [float(i) for i in numeros if i!= ',']\n",
    "            r = numeros[0]\n",
    "            for i in range(1,len(numeros)):\n",
    "                r = r/numeros[i]\n",
    "            error_operacion = False\n",
    "            break\n",
    "    else:\n",
    "        print('Favor de indicar sumar, restar, multiplicar o dividir  ')\n",
    "        continue\n",
    "    \n",
    "float(r)"
   ]
  },
  {
   "cell_type": "code",
   "execution_count": null,
   "metadata": {},
   "outputs": [],
   "source": [
    "numeros = list(input('Favor de poner los números que quieres multiplicar:   '))\n",
    "m = 1\n",
    "n = [int(numeros[i]) for i in range(0, len(numeros), 2)]\n",
    "for i in range(0,len(n)):\n",
    "    m = m*n[i]\n",
    "m\n"
   ]
  },
  {
   "cell_type": "code",
   "execution_count": null,
   "metadata": {},
   "outputs": [],
   "source": [
    "numeros = list(input('Numeros'))\n",
    "numeros =  [numeros[i-1]+numeros[i] for i in range(len(numeros)) if numeros[i-1] == '-']\n",
    "numeros = [i for i in numeros if i !=',']\n",
    "numeros"
   ]
  },
  {
   "cell_type": "code",
   "execution_count": null,
   "metadata": {},
   "outputs": [],
   "source": [
    "numeros = list(input('Numeros:  '))\n",
    "numeros = [numeros[i-2]+numeros[i-1]+numeros[i] for i in range(len(numeros)) if numeros[i-1] == '.']\n",
    "numeros"
   ]
  },
  {
   "cell_type": "markdown",
   "metadata": {},
   "source": []
  },
  {
   "cell_type": "code",
   "execution_count": null,
   "metadata": {},
   "outputs": [],
   "source": [
    "numeros = list(input('Numeros:  '))\n",
    "numeros = [numeros[i-1]+numeros[i] for i in range(len(numeros)) if numeros[i-1] != ',']\n",
    "numeros"
   ]
  },
  {
   "cell_type": "code",
   "execution_count": null,
   "metadata": {},
   "outputs": [],
   "source": [
    "numeros = (input('Numeros:  '))\n",
    "numeros = numeros.split(',')\n",
    "numeros = [float(i) for i in numeros if i!= ',']\n",
    "numeros"
   ]
  },
  {
   "cell_type": "code",
   "execution_count": null,
   "metadata": {},
   "outputs": [],
   "source": [
    "#factorial calculator\n"
   ]
  },
  {
   "cell_type": "code",
   "execution_count": null,
   "metadata": {},
   "outputs": [],
   "source": [
    "number = 10\n",
    "l = list(range(1,number+1))\n",
    "l"
   ]
  },
  {
   "cell_type": "code",
   "execution_count": null,
   "metadata": {},
   "outputs": [],
   "source": [
    "r = 1\n",
    "for i in l:\n",
    "    r=r*i\n",
    "r"
   ]
  },
  {
   "cell_type": "code",
   "execution_count": null,
   "metadata": {},
   "outputs": [],
   "source": [
    "incorrect_type = True\n",
    "while incorrect_type:\n",
    "    try:\n",
    "        number = int(input('Favor de poner el número del cual quieres sacar el factor:   '))\n",
    "        incorrect_type = False\n",
    "    except ValueError:\n",
    "        print('Favor de ingresas un número entero')\n",
    "        continue\n",
    "number"
   ]
  },
  {
   "cell_type": "code",
   "execution_count": null,
   "metadata": {},
   "outputs": [],
   "source": [
    "\n",
    "if number < 0:\n",
    "    print('Favor de colocar números positivos')\n",
    "    incorrect_type = True\n",
    "elif number == 0:\n",
    "    r = 1\n",
    "else:\n",
    "    l = list(range(1,number+1))\n",
    "    r = 1\n",
    "    for i in l:\n",
    "        r=r*i\n",
    "r  "
   ]
  },
  {
   "cell_type": "code",
   "execution_count": null,
   "metadata": {},
   "outputs": [],
   "source": [
    "\n",
    "dummy_inc = True\n",
    "while dummy_inc:\n",
    "    incorrect_type = True\n",
    "    while incorrect_type:\n",
    "        try:\n",
    "            number = int(input('Favor de ingresar el número al que quieres sacarle el factorial:   '))\n",
    "            incorrect_type =  False\n",
    "        except ValueError:\n",
    "            print('Favor de ingresar sólo números')\n",
    "            continue\n",
    "        if number < 0:\n",
    "            print('Favor de colocar números mayores o iguales a 0')\n",
    "            incorrect_type = True\n",
    "        elif number == 0:\n",
    "            r = 1\n",
    "        else:\n",
    "            l = list(range(1,number+1))\n",
    "            r = 1\n",
    "            for i in l:\n",
    "                r = r*i\n",
    "    print(f'El factorial es {r}')\n",
    "    incorrect_type2 = True\n",
    "    mal_si_no = True\n",
    "    while mal_si_no:\n",
    "        cont = str(input('¿Quieres sacar otro factorial?   ').upper())\n",
    "        incorrect_type2 = False\n",
    "        if cont == 'SI':\n",
    "            mal_si_no = False\n",
    "            dummy_inc = True\n",
    "            break\n",
    "        elif cont == 'NO':\n",
    "            mal_si_no = False\n",
    "            dummy_inc = False\n",
    "            break\n",
    "        else:\n",
    "            print('Favor de responder con SI o NO')\n",
    "            mal_si_no = True\n",
    "            incorrect_type2 = True\n",
    "\n",
    "                   \n",
    "print('Adios!')"
   ]
  },
  {
   "cell_type": "code",
   "execution_count": null,
   "metadata": {},
   "outputs": [],
   "source": [
    "cont = str(input('¿Quieres sacar otro factorial?').upper())\n",
    "if cont == 'SI':\n",
    "    print('a')\n",
    "elif cont == 'NO':\n",
    "    print('b')    \n",
    "else:\n",
    "    print('Favor de responder con SI o NO')\n",
    "cont\n",
    "           \n"
   ]
  },
  {
   "cell_type": "code",
   "execution_count": null,
   "metadata": {},
   "outputs": [],
   "source": [
    "#programa de flip coin\n",
    "\n",
    "heads = 0\n",
    "tails = 0\n",
    "flip_type = True\n",
    "while inp:\n",
    "    try:\n",
    "        dec = int(input('Flip a coin?  ')\n",
    "        flip_type =  False\n",
    "    except ValueError:\n",
    "        print('Please answer with the letters yes or no!')\n",
    "        \n",
    "                  \n",
    "        \n"
   ]
  },
  {
   "cell_type": "code",
   "execution_count": 7,
   "metadata": {},
   "outputs": [
    {
     "name": "stdout",
     "output_type": "stream",
     "text": [
      "Flip a coin? Yes or no?  yes\n",
      "Flip a coin? Yes or no?  n\n",
      "Please answer YES or NO\n",
      "Flip a coin? Yes or no?  yes\n",
      "Flip a coin? Yes or no?  yes\n",
      "Flip a coin? Yes or no?  yes\n",
      "Flip a coin? Yes or no?  yes\n",
      "Flip a coin? Yes or no?  yes\n",
      "Flip a coin? Yes or no?  no\n",
      "The total of throws were 6 with 4 heads and 2 tails\n",
      "Bye!\n"
     ]
    }
   ],
   "source": [
    "heads = 0\n",
    "tails = 0\n",
    "throws = 0\n",
    "flip_type = True\n",
    "cont_throw =  True\n",
    "head_tail = ('head','tail')\n",
    "import random\n",
    "\n",
    "while flip_type:\n",
    "    flip_answer = input('Flip a coin? Yes or no?  ').upper()\n",
    "    if flip_answer == 'YES':\n",
    "        result = random.choice(head_tail)\n",
    "        if result == 'head':\n",
    "            heads += 1\n",
    "        else:\n",
    "            tails += 1\n",
    "        throws += 1\n",
    "    elif flip_answer == 'NO':\n",
    "        print(f'The total of throws were {throws} with {heads} heads and {tails} tails')\n",
    "        print('Bye!')\n",
    "        flip_type = False\n",
    "    else:\n",
    "        print('Please answer YES or NO')\n",
    "            \n",
    "\n",
    "        \n",
    "        \n",
    "                  \n",
    "        \n"
   ]
  },
  {
   "cell_type": "code",
   "execution_count": 28,
   "metadata": {},
   "outputs": [
    {
     "name": "stdout",
     "output_type": "stream",
     "text": [
      "How many throws do you want to perform?  doce\n",
      "Only intergers are permited, pleas type again your answer\n",
      "How many throws do you want to perform?  12\n",
      "The total of throws were 12 with 9 heads and 3 tails\n"
     ]
    }
   ],
   "source": [
    "heads = 0\n",
    "tails = 0\n",
    "head_tail = (1,0)\n",
    "import random\n",
    "type_t =  True\n",
    "while type_t:\n",
    "    try:\n",
    "        throws = int(input('How many throws do you want to perform?  '))\n",
    "        type_t = False\n",
    "    except ValueError:\n",
    "        print('Only intergers are permited, pleas type again your answer')\n",
    "        \n",
    "for i in range(1,throws+1):\n",
    "    if random.choice(head_tail) == 1:\n",
    "        heads += 1\n",
    "    else:\n",
    "        tails +=1\n",
    "        \n",
    "print(f'The total of throws were {throws} with {heads} heads and {tails} tails')\n",
    "\n",
    "    "
   ]
  },
  {
   "cell_type": "code",
   "execution_count": 1,
   "metadata": {},
   "outputs": [
    {
     "data": {
      "text/plain": [
       "4"
      ]
     },
     "execution_count": 1,
     "metadata": {},
     "output_type": "execute_result"
    }
   ],
   "source": [
    "2**2"
   ]
  },
  {
   "cell_type": "code",
   "execution_count": 26,
   "metadata": {},
   "outputs": [
    {
     "data": {
      "text/plain": [
       "2.5"
      ]
     },
     "execution_count": 26,
     "metadata": {},
     "output_type": "execute_result"
    }
   ],
   "source": [
    "def range_floating(start = 0,stop = 1,step= 0.01):\n",
    "    steps = int((stop-start)/step)\n",
    "    for i in range(0,steps+1):\n",
    "        yield (start + i*step)\n",
    "               \n",
    "l = list(range_floating(0,10,0.25))\n",
    "\n"
   ]
  },
  {
   "cell_type": "code",
   "execution_count": 7,
   "metadata": {},
   "outputs": [
    {
     "data": {
      "text/plain": [
       "10"
      ]
     },
     "execution_count": 7,
     "metadata": {},
     "output_type": "execute_result"
    }
   ],
   "source": [
    "def limit_range_generator(limit = 5, step= 0.01, steps = 100):\n",
    "    start = limit - step*steps\n",
    "    stop = start + step*(steps-1)\n",
    "    for i in range(0,steps):\n",
    "        yield (start + i*step)\n",
    "\n",
    "l = list(limit_range_generator(5,0.001,10))\n",
    "len(l)\n",
    "\n",
    "        "
   ]
  },
  {
   "cell_type": "code",
   "execution_count": 55,
   "metadata": {},
   "outputs": [],
   "source": [
    "def f(x):\n",
    "    return (x**2)\n"
   ]
  },
  {
   "cell_type": "code",
   "execution_count": 58,
   "metadata": {},
   "outputs": [
    {
     "data": {
      "text/plain": [
       "24.990001000000007"
      ]
     },
     "execution_count": 58,
     "metadata": {},
     "output_type": "execute_result"
    }
   ],
   "source": [
    "def limit(fx):\n",
    "    for x in l:\n",
    "        yield(f(x))\n",
    "        \n",
    "k=list(limit(f(x)))\n",
    "k[len(k)-1]\n"
   ]
  },
  {
   "cell_type": "code",
   "execution_count": 16,
   "metadata": {},
   "outputs": [
    {
     "data": {
      "text/plain": [
       "3"
      ]
     },
     "execution_count": 16,
     "metadata": {},
     "output_type": "execute_result"
    }
   ],
   "source": [
    "x = 1\n",
    "exp = '2*x+1'\n",
    "exp\n",
    "eval(exp)"
   ]
  },
  {
   "cell_type": "code",
   "execution_count": 18,
   "metadata": {},
   "outputs": [
    {
     "name": "stdout",
     "output_type": "stream",
     "text": [
      "Pleas input a f(x) to eval:   2*x+1\n",
      "10.98\n",
      "10.982000000000001\n",
      "10.984\n",
      "10.986\n",
      "10.988\n",
      "10.99\n",
      "10.992\n",
      "10.994\n",
      "10.996\n",
      "10.998000000000001\n"
     ]
    }
   ],
   "source": [
    "exp = input('Pleas input a f(x) to eval:   ')\n",
    "\n",
    "def limit_eval(exp):\n",
    "    for x in l:\n",
    "        print(eval(exp))\n",
    "        \n",
    "limit_eval(exp)\n",
    "\n",
    "\n",
    "        \n"
   ]
  },
  {
   "cell_type": "code",
   "execution_count": 30,
   "metadata": {},
   "outputs": [
    {
     "name": "stdout",
     "output_type": "stream",
     "text": [
      "Please input a f(x) to eval:   3*x**5/1+x**7\n",
      "Please input the limit you want to compute (if it is infinite please input INF):   INF\n",
      "negative infinite\n"
     ]
    }
   ],
   "source": [
    "##LIMIT CALCULATOR\n",
    "\n",
    "exp = input('Please input a f(x) to eval:   ')\n",
    "lim = input('Please input the limit you want to compute (if it is infinite please input INF):   ')\n",
    "def limit_range_generator(limit = 5, step= 0.001, steps = 100):\n",
    "    start = limit - step*steps\n",
    "    stop = start + step*(steps-1)\n",
    "    for i in range(0,steps):\n",
    "        yield (start + i*step)\n",
    "        \n",
    "def limit_eval(exp):\n",
    "    for x in l:\n",
    "        print(eval(exp))\n",
    "        \n",
    "if lim == 'INF':\n",
    "    x = 999999999999999999\n",
    "    z =  eval(exp)\n",
    "    if z < 1:\n",
    "        print('The limit is positive infinite')\n",
    "    else:\n",
    "        print('The limit is negative infinite')\n",
    "else:\n",
    "    limit = int(lim)\n",
    "    steps = int(input('Please input how many computations do you want to do of the limits:    '))\n",
    "    l = list(limit_range_generator(limit,0.001,steps))\n",
    "    limit_eval(exp)\n"
   ]
  },
  {
   "cell_type": "code",
   "execution_count": 2,
   "metadata": {},
   "outputs": [],
   "source": [
    "##DISTANCE CALCULATOR"
   ]
  },
  {
   "cell_type": "code",
   "execution_count": 3,
   "metadata": {},
   "outputs": [],
   "source": [
    "import math\n",
    "\n",
    "city_locations = {\n",
    "'Amarillo': ('35n13', '101w50', 'Texas USA'),\n",
    "'Austin': ('30n16', '97w45', 'Texas USA'),\n",
    "'Berlin': ('52n30', '13e22', 'Germany'),\n",
    "'Boston': ('42n22', '71w04', 'Massachusetts USA'),\n",
    "'Chicago': ('41n51', '87w39', 'Illinois USA'),\n",
    "'Delhi': ('28n40', '77e13', 'India'),\n",
    "'Denver': ('39n44', '104w59', 'Colorado USA'),\n",
    "'Detroit': ('42n20', '83w03', 'Michigan USA'),\n",
    "'Jerusalem': ('31n46', '35e14', 'Israel'),\n",
    "'London': ('51n30', '0w10', 'England'),\n",
    "'Madrid': ('40n24', '3w41', 'Spain'),\n",
    "'Melbourne': ('37s49', '144e58', 'Australia'),\n",
    "'Orlando': ('28n32', '81w23', 'Florida USA'),\n",
    "'Paris': ('48n52', '2e20', 'France'),\n",
    "'Reno': ('39n32', '119w49', 'Nevada USA'),\n",
    "'Salt Lake City': ('40n46', '111w53', 'Utah USA'),\n",
    "'Seattle': ('47n36', '122w20', 'Washington USA'),\n",
    "'Tokyo': ('35n42', '139e46', 'Japan')\n",
    "}"
   ]
  },
  {
   "cell_type": "code",
   "execution_count": 1,
   "metadata": {},
   "outputs": [],
   "source": [
    "def city_location_search(city):\n",
    "    x = [1,2]\n",
    "    if city in city_locations:\n",
    "        e_w = 'east'\n",
    "        n_s = 'north'\n",
    "        lat = city_locations[city][0]\n",
    "        lon = city_locations[city][1]\n",
    "        st_country = city_locations[city][2]\n",
    "        if 'n' in lat:\n",
    "            hr,minu = lat.split('n')\n",
    "            n_s = 'north'\n",
    "            deg = float(hr) + float(minu)/60\n",
    "            lat_rad = math.radians(deg)\n",
    "        elif 's' in lat:\n",
    "            hr , minu = lat.split('s')\n",
    "            n_s = 'south'\n",
    "            deg = float(hr) + float(minu)/60\n",
    "            lat_rad = -math.radians(deg)\n",
    "        if 'w' in lon:\n",
    "            hr , minu = lon.split('w')\n",
    "            e_w = 'west'\n",
    "            deg = float(hr) + float(minu)/60\n",
    "            lon_rad = math.radians(deg)\n",
    "        elif 'e' in lon:\n",
    "            hr,minu = lat.split('e')\n",
    "            e_w = 'east'\n",
    "            deg = float(hr) + float(minu)/60\n",
    "            lon_rad = -math.radians(deg)\n",
    "        x = [lat_rad, lon_rad]\n",
    "        return x\n",
    "    else:\n",
    "        print(f'{city} is not in the list of cities')\n",
    "        \n",
    "            "
   ]
  },
  {
   "cell_type": "code",
   "execution_count": 26,
   "metadata": {},
   "outputs": [
    {
     "data": {
      "text/plain": [
       "[0.6146467849106697, 1.7773269549475588]"
      ]
     },
     "execution_count": 26,
     "metadata": {},
     "output_type": "execute_result"
    }
   ],
   "source": [
    "city_location_search('Amarillo')"
   ]
  },
  {
   "cell_type": "code",
   "execution_count": 2,
   "metadata": {},
   "outputs": [],
   "source": [
    "def city_distance(city1, city2):\n",
    "    \"\"\"\n",
    "    calculate the distance (air) in miles between 2 cities given their coordinates\n",
    "    \"\"\"\n",
    "\n",
    "    lat1, lng1 = city_location_search(city1)\n",
    "    lat2, lng2 = city_location_search(city2)\n",
    "    \n",
    "    circ = 24830.0  \n",
    "    a = lng1 - lng2\n",
    "    if a < 0.0:\n",
    "        a = -a\n",
    "    if a > math.pi:\n",
    "        a = 2.0 * math.pi - a\n",
    "    angle = math.acos(math.sin(lat2) * math.sin(lat1) + \n",
    "        math.cos(lat2) * math.cos(lat1) * math.cos(a))\n",
    "    distance = circ * angle / (2.0 * math.pi)\n",
    "    print (f'Shortest distance between {city1} and {city2} is {distance}0.1f miles')"
   ]
  },
  {
   "cell_type": "code",
   "execution_count": 3,
   "metadata": {},
   "outputs": [
    {
     "ename": "NameError",
     "evalue": "name 'city_locations' is not defined",
     "output_type": "error",
     "traceback": [
      "\u001b[1;31m---------------------------------------------------------------------------\u001b[0m",
      "\u001b[1;31mNameError\u001b[0m                                 Traceback (most recent call last)",
      "\u001b[1;32m<ipython-input-3-2f55fe2fa062>\u001b[0m in \u001b[0;36m<module>\u001b[1;34m()\u001b[0m\n\u001b[1;32m----> 1\u001b[1;33m \u001b[0mcity_distance\u001b[0m\u001b[1;33m(\u001b[0m\u001b[1;34m'Amarill'\u001b[0m\u001b[1;33m,\u001b[0m\u001b[1;34m'Detroit'\u001b[0m\u001b[1;33m)\u001b[0m\u001b[1;33m\u001b[0m\u001b[0m\n\u001b[0m",
      "\u001b[1;32m<ipython-input-2-3454a0d1ca48>\u001b[0m in \u001b[0;36mcity_distance\u001b[1;34m(city1, city2)\u001b[0m\n\u001b[0;32m      4\u001b[0m     \"\"\"\n\u001b[0;32m      5\u001b[0m \u001b[1;33m\u001b[0m\u001b[0m\n\u001b[1;32m----> 6\u001b[1;33m     \u001b[0mlat1\u001b[0m\u001b[1;33m,\u001b[0m \u001b[0mlng1\u001b[0m \u001b[1;33m=\u001b[0m \u001b[0mcity_location_search\u001b[0m\u001b[1;33m(\u001b[0m\u001b[0mcity1\u001b[0m\u001b[1;33m)\u001b[0m\u001b[1;33m\u001b[0m\u001b[0m\n\u001b[0m\u001b[0;32m      7\u001b[0m     \u001b[0mlat2\u001b[0m\u001b[1;33m,\u001b[0m \u001b[0mlng2\u001b[0m \u001b[1;33m=\u001b[0m \u001b[0mcity_location_search\u001b[0m\u001b[1;33m(\u001b[0m\u001b[0mcity2\u001b[0m\u001b[1;33m)\u001b[0m\u001b[1;33m\u001b[0m\u001b[0m\n\u001b[0;32m      8\u001b[0m \u001b[1;33m\u001b[0m\u001b[0m\n",
      "\u001b[1;32m<ipython-input-1-4d1bcca62801>\u001b[0m in \u001b[0;36mcity_location_search\u001b[1;34m(city)\u001b[0m\n\u001b[0;32m      1\u001b[0m \u001b[1;32mdef\u001b[0m \u001b[0mcity_location_search\u001b[0m\u001b[1;33m(\u001b[0m\u001b[0mcity\u001b[0m\u001b[1;33m)\u001b[0m\u001b[1;33m:\u001b[0m\u001b[1;33m\u001b[0m\u001b[0m\n\u001b[0;32m      2\u001b[0m     \u001b[0mx\u001b[0m \u001b[1;33m=\u001b[0m \u001b[1;33m[\u001b[0m\u001b[1;36m1\u001b[0m\u001b[1;33m,\u001b[0m\u001b[1;36m2\u001b[0m\u001b[1;33m]\u001b[0m\u001b[1;33m\u001b[0m\u001b[0m\n\u001b[1;32m----> 3\u001b[1;33m     \u001b[1;32mif\u001b[0m \u001b[0mcity\u001b[0m \u001b[1;32min\u001b[0m \u001b[0mcity_locations\u001b[0m\u001b[1;33m:\u001b[0m\u001b[1;33m\u001b[0m\u001b[0m\n\u001b[0m\u001b[0;32m      4\u001b[0m         \u001b[0me_w\u001b[0m \u001b[1;33m=\u001b[0m \u001b[1;34m'east'\u001b[0m\u001b[1;33m\u001b[0m\u001b[0m\n\u001b[0;32m      5\u001b[0m         \u001b[0mn_s\u001b[0m \u001b[1;33m=\u001b[0m \u001b[1;34m'north'\u001b[0m\u001b[1;33m\u001b[0m\u001b[0m\n",
      "\u001b[1;31mNameError\u001b[0m: name 'city_locations' is not defined"
     ]
    }
   ],
   "source": [
    "city_distance('Amarillo','Detroit')"
   ]
  },
  {
   "cell_type": "code",
   "execution_count": null,
   "metadata": {},
   "outputs": [],
   "source": [
    "##SORTING"
   ]
  },
  {
   "cell_type": "code",
   "execution_count": null,
   "metadata": {},
   "outputs": [],
   "source": []
  }
 ],
 "metadata": {
  "kernelspec": {
   "display_name": "Python 3",
   "language": "python",
   "name": "python3"
  },
  "language_info": {
   "codemirror_mode": {
    "name": "ipython",
    "version": 3
   },
   "file_extension": ".py",
   "mimetype": "text/x-python",
   "name": "python",
   "nbconvert_exporter": "python",
   "pygments_lexer": "ipython3",
   "version": "3.7.0"
  }
 },
 "nbformat": 4,
 "nbformat_minor": 2
}
